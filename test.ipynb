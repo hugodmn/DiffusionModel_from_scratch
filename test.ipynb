{
 "cells": [
  {
   "cell_type": "code",
   "execution_count": 1,
   "metadata": {},
   "outputs": [
    {
     "ename": "ModuleNotFoundError",
     "evalue": "No module named 'src.models.models'",
     "output_type": "error",
     "traceback": [
      "\u001b[0;31m---------------------------------------------------------------------------\u001b[0m",
      "\u001b[0;31mModuleNotFoundError\u001b[0m                       Traceback (most recent call last)",
      "Cell \u001b[0;32mIn[1], line 1\u001b[0m\n\u001b[0;32m----> 1\u001b[0m \u001b[38;5;28;01mfrom\u001b[39;00m \u001b[38;5;21;01msrc\u001b[39;00m\u001b[38;5;21;01m.\u001b[39;00m\u001b[38;5;21;01mmodels\u001b[39;00m\u001b[38;5;21;01m.\u001b[39;00m\u001b[38;5;21;01mdiffusion_module\u001b[39;00m \u001b[38;5;28;01mimport\u001b[39;00m LightningDiffusionModule, DiffusionModel\n\u001b[1;32m      2\u001b[0m \u001b[38;5;28;01mfrom\u001b[39;00m \u001b[38;5;21;01msrc\u001b[39;00m\u001b[38;5;21;01m.\u001b[39;00m\u001b[38;5;21;01mmodels\u001b[39;00m\u001b[38;5;21;01m.\u001b[39;00m\u001b[38;5;21;01mTwoResUnet\u001b[39;00m \u001b[38;5;28;01mimport\u001b[39;00m TwoResUNet\n\u001b[1;32m      3\u001b[0m \u001b[38;5;28;01mimport\u001b[39;00m \u001b[38;5;21;01mtorch\u001b[39;00m\n",
      "File \u001b[0;32m~/Bureau/Projects/DiffusionModel_from_scratch/src/models/diffusion_module.py:2\u001b[0m\n\u001b[1;32m      1\u001b[0m \u001b[38;5;28;01mimport\u001b[39;00m \u001b[38;5;21;01mpytorch_lightning\u001b[39;00m \u001b[38;5;28;01mas\u001b[39;00m \u001b[38;5;21;01mpl\u001b[39;00m\n\u001b[0;32m----> 2\u001b[0m \u001b[38;5;28;01mfrom\u001b[39;00m \u001b[38;5;21;01m.\u001b[39;00m\u001b[38;5;21;01mmodels\u001b[39;00m\u001b[38;5;21;01m.\u001b[39;00m\u001b[38;5;21;01mTwoResUnet\u001b[39;00m \u001b[38;5;28;01mimport\u001b[39;00m TwoResUNet\n\u001b[1;32m      3\u001b[0m \u001b[38;5;28;01mimport\u001b[39;00m \u001b[38;5;21;01mtorch\u001b[39;00m \n\u001b[1;32m      4\u001b[0m \u001b[38;5;28;01mimport\u001b[39;00m \u001b[38;5;21;01mtorch\u001b[39;00m\u001b[38;5;21;01m.\u001b[39;00m\u001b[38;5;21;01mnn\u001b[39;00m \u001b[38;5;28;01mas\u001b[39;00m \u001b[38;5;21;01mnn\u001b[39;00m\n",
      "\u001b[0;31mModuleNotFoundError\u001b[0m: No module named 'src.models.models'"
     ]
    }
   ],
   "source": [
    "from src.models.diffusion_module import LightningDiffusionModule, DiffusionModel\n",
    "from src.models.TwoResUnet import TwoResUNet\n",
    "import torch\n",
    "import numpy as np\n",
    "from tqdm import tqdm\n",
    "import matplotlib.pyplot as plt\n",
    "\n",
    "model= TwoResUNet(dim = 64)\n",
    "diff_model = DiffusionModel(model = model)\n",
    "light_module = LightningDiffusionModule(model=diff_model,  wandb_flag = False)\n",
    "checkpoint = torch.load(\"results/classic/diffusion_model-epoch=139-train_loss=0.00.ckpt\")\n",
    "print(checkpoint)\n",
    "light_module.on_load_checkpoint(checkpoint=checkpoint)\n",
    "light_module = light_module\n",
    "print(light_module.diff_model)\n",
    "light_module.diff_model.eval()\n",
    "\n",
    "image = light_module.diff_model.p_sample_loop((1,3,64,64))\n",
    "\n",
    "plt.imshow(image)\n",
    "plt.axis('off')  # Hide axes for better display\n",
    "plt.show()\n"
   ]
  },
  {
   "cell_type": "code",
   "execution_count": 2,
   "metadata": {},
   "outputs": [
    {
     "name": "stdout",
     "output_type": "stream",
     "text": [
      "Model exported to results/onnx/diffusion_model.onnx\n"
     ]
    }
   ],
   "source": [
    "onnx_path = \"results/onnx/diffusion_model.onnx\"\n",
    "\n",
    "torch.onnx.export(\n",
    "    light_module.diff_model.diffusion_model,       # The model being converted\n",
    "    (dummy_input,dummy_t),                   # Example input to trace the model\n",
    "    onnx_path,                     # Path to save the ONNX file\n",
    "    export_params=True,            # Store the trained parameters in the model file\n",
    "    opset_version=11,              # ONNX version to export the model to\n",
    "    do_constant_folding=True,      # Whether to execute constant folding for optimization\n",
    "    input_names=['input', 'time'],         # Model input names\n",
    "    output_names=['output'],       # Model output names\n",
    "    dynamic_axes={'input': {0: 'batch_size'}, 'output': {0: 'batch_size'}, 'time': {0: 'batch_size'}}  # Variable length axes\n",
    ")\n",
    "\n",
    "print(f\"Model exported to {onnx_path}\")"
   ]
  },
  {
   "cell_type": "code",
   "execution_count": 9,
   "metadata": {},
   "outputs": [
    {
     "name": "stderr",
     "output_type": "stream",
     "text": [
      "WARNING:root:Please consider to run pre-processing before quantization. Refer to example: https://github.com/microsoft/onnxruntime-inference-examples/blob/main/quantization/image_classification/cpu/ReadMe.md \n"
     ]
    },
    {
     "name": "stdout",
     "output_type": "stream",
     "text": [
      "Quantized model saved to results/onnx/diffusion_model_quantized.onnx\n"
     ]
    }
   ],
   "source": [
    "from onnxruntime.quantization import quantize_dynamic, QuantType\n",
    "\n",
    "quantized_model_path = \"results/onnx/diffusion_model_quantized.onnx\"\n",
    "\n",
    "quantize_dynamic(\n",
    "    model_input=onnx_path,                # Input ONNX model path\n",
    "    model_output=quantized_model_path,    # Output quantized model path\n",
    "    op_types_to_quantize=['Matmul'],  # Operations to quantize (you can customize this list)\n",
    "    per_channel=True,                     # Enable per-channel quantization\n",
    "    reduce_range=True,                    # Reduce the range of quantized values\n",
    "    weight_type=QuantType.QInt8           # Quantization type (can also be QuantType.QUInt8)\n",
    ")\n",
    "\n",
    "print(f\"Quantized model saved to {quantized_model_path}\")\n"
   ]
  },
  {
   "cell_type": "code",
   "execution_count": 10,
   "metadata": {},
   "outputs": [],
   "source": [
    "import onnxruntime as ort\n",
    "\n",
    "# Load the quantized model\n",
    "ort_session = ort.InferenceSession(quantized_model_path)\n",
    "\n",
    "# # Run inference\n",
    "# outputs = ort_session.run(None, {\"input\": dummy_input.cpu().numpy()})\n",
    "\n",
    "# for input in ort_session.get_inputs():\n",
    "#     print(f\"Input Name: {input.name}, Shape: {input.shape}\")\n",
    "# print(outputs)"
   ]
  },
  {
   "cell_type": "code",
   "execution_count": 4,
   "metadata": {},
   "outputs": [],
   "source": [
    "def extract(arr, t, shape):\n",
    "    batch_size = shape[0]\n",
    "    out = np.take(arr, t)\n",
    "    out = np.reshape(out, (1,) * (len(shape) - 1))  # Reshape to match the number of dimensions except batch size\n",
    "    return np.broadcast_to(out, shape)\n",
    "\n",
    "\n",
    "def p_sample(ort_session, x, t, betas, sqrt_recip_alphas, sqrt_one_minus_alphas_cumprod, posterior_variance):\n",
    "    t = np.array([t], dtype=np.int64)\n",
    "    preds = ort_session.run(None, {\"input\": x.cpu().numpy(), \"time\": t})[0]\n",
    "    betas_t = extract(betas, t, x.shape)\n",
    "    sqrt_recip_alphas_t = extract(sqrt_recip_alphas, t, x.shape)\n",
    "    sqrt_one_minus_alphas_cumprod_t = extract(sqrt_one_minus_alphas_cumprod, t, x.shape)\n",
    "\n",
    "    predicted_mean = sqrt_recip_alphas_t * (x.cpu().numpy() - betas_t * preds / sqrt_one_minus_alphas_cumprod_t)\n",
    "\n",
    "    if t == 0:\n",
    "        return predicted_mean\n",
    "    else:\n",
    "        posterior_variance_t = extract(posterior_variance, t, x.shape)\n",
    "        noise = np.random.randn(*x.shape).astype(np.float32)\n",
    "        return predicted_mean + np.sqrt(posterior_variance_t) * noise\n",
    "\n",
    "\n",
    "def p_sample_loop(ort_session, shape, betas, sqrt_recip_alphas, sqrt_one_minus_alphas_cumprod, posterior_variance, num_timesteps):\n",
    "    \n",
    "    img = np.random.randn(*shape).astype(np.float32)\n",
    "\n",
    "    for t in tqdm(reversed(range(num_timesteps)), total=num_timesteps):\n",
    "        img = p_sample(ort_session, torch.tensor(img), t, betas, sqrt_recip_alphas, sqrt_one_minus_alphas_cumprod, posterior_variance)\n",
    "    \n",
    "    return torch.tensor(img).to('cuda')"
   ]
  },
  {
   "cell_type": "code",
   "execution_count": 13,
   "metadata": {},
   "outputs": [
    {
     "name": "stderr",
     "output_type": "stream",
     "text": [
      "100%|██████████| 1000/1000 [00:25<00:00, 39.13it/s]\n",
      "WARNING:matplotlib.image:Clipping input data to the valid range for imshow with RGB data ([0..1] for floats or [0..255] for integers).\n"
     ]
    },
    {
     "data": {
      "image/png": "[encoded data removed]",
      "text/plain": [
       "<Figure size 640x480 with 1 Axes>"
      ]
     },
     "metadata": {},
     "output_type": "display_data"
    }
   ],
   "source": [
    "import matplotlib.pyplot as plt\n",
    "import numpy as np\n",
    "\n",
    "# These values would be obtained from your model's initialization, converted to numpy arrays\n",
    "betas = np.array(light_module.diff_model.betas.cpu().numpy())\n",
    "sqrt_recip_alphas = np.array(light_module.diff_model.sqrt_recip_alphas.cpu().numpy())\n",
    "sqrt_one_minus_alphas_cumprod = np.array(light_module.diff_model.sqrt_one_minus_alphas_cumprod.cpu().numpy())\n",
    "posterior_variance = np.array(light_module.diff_model.posterior_variance.cpu().numpy())\n",
    "\n",
    "num_timesteps = light_module.diff_model.num_timesteps\n",
    "img_shape = (1, 3, light_module.diff_model.image_size, light_module.diff_model.image_size)\n",
    "\n",
    "generated_images = p_sample_loop(ort_session, img_shape, betas, sqrt_recip_alphas, sqrt_one_minus_alphas_cumprod, posterior_variance, num_timesteps)\n",
    "\n",
    "# Save or display the generated image\n",
    "\n",
    "# Assuming `generated_images` is the output from the p_sample_loop\n",
    "# If necessary, move the tensor to CPU and convert it to numpy\n",
    "image = generated_images.squeeze().detach().cpu().numpy()\n",
    "\n",
    "# If the image is in [-1, 1], unnormalize it to [0, 1]\n",
    "image = (image + 1) / 2\n",
    "\n",
    "# Transpose the image to (H, W, C) if necessary (from (C, H, W))\n",
    "image = np.transpose(image, (1, 2, 0))\n",
    "\n",
    "# Display the image\n",
    "plt.imshow(image)\n",
    "plt.axis('off')  # Hide axes for better display\n",
    "plt.show()\n"
   ]
  },
  {
   "cell_type": "code",
   "execution_count": 48,
   "metadata": {},
   "outputs": [],
   "source": [
    "import numpy as np\n",
    "import json\n",
    "\n",
    "# Assuming betas, sqrt_recip_alphas, sqrt_one_minus_alphas_cumprod, and posterior_variance are numpy arrays\n",
    "\n",
    "data = {\n",
    "    \"betas\": betas.tolist(),\n",
    "    \"sqrt_recip_alphas\": sqrt_recip_alphas.tolist(),\n",
    "    \"sqrt_one_minus_alphas_cumprod\": sqrt_one_minus_alphas_cumprod.tolist(),\n",
    "    \"posterior_variance\": posterior_variance.tolist()\n",
    "}\n",
    "\n",
    "# Save as a JSON file\n",
    "with open('web-app/diffusion_buffers.json', 'w') as json_file:\n",
    "    json.dump(data, json_file)\n"
   ]
  },
  {
   "cell_type": "code",
   "execution_count": null,
   "metadata": {},
   "outputs": [],
   "source": []
  }
 ],
 "metadata": {
  "kernelspec": {
   "display_name": "cuda_env",
   "language": "python",
   "name": "python3"
  },
  "language_info": {
   "codemirror_mode": {
    "name": "ipython",
    "version": 3
   },
   "file_extension": ".py",
   "mimetype": "text/x-python",
   "name": "python",
   "nbconvert_exporter": "python",
   "pygments_lexer": "ipython3",
   "version": "3.10.14"
  }
 },
 "nbformat": 4,
 "nbformat_minor": 2
}
